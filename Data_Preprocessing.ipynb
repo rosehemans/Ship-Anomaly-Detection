{
 "cells": [
  {
   "cell_type": "code",
   "execution_count": 128,
   "id": "3bde7bf1",
   "metadata": {},
   "outputs": [
    {
     "name": "stdout",
     "output_type": "stream",
     "text": [
      "/Users/paterosthodoris/Desktop/MSBA/MSBA_FALL_2023/STAT_6289/Final_Project/FP_DATA\n"
     ]
    }
   ],
   "source": [
    "cd /Users/paterosthodoris/Desktop/MSBA/MSBA_FALL_2023/STAT_6289/Final_Project/FP_DATA"
   ]
  },
  {
   "cell_type": "markdown",
   "id": "61304149",
   "metadata": {},
   "source": [
    "## Import packages"
   ]
  },
  {
   "cell_type": "code",
   "execution_count": 129,
   "id": "1f9e9f4f",
   "metadata": {},
   "outputs": [],
   "source": [
    "import numpy as np\n",
    "import random\n",
    "import cv2\n",
    "import os\n",
    "import random\n",
    "import matplotlib.pyplot as plt\n",
    "import pickle"
   ]
  },
  {
   "cell_type": "markdown",
   "id": "6aabc4da",
   "metadata": {},
   "source": [
    "## Connect to data"
   ]
  },
  {
   "cell_type": "code",
   "execution_count": 130,
   "id": "a5117df5",
   "metadata": {},
   "outputs": [],
   "source": [
    "DIRECTORY ='/Users/paterosthodoris/Desktop/MSBA/MSBA_FALL_2023/STAT_6289/Final_Project/FP_DATA'\n",
    "CATEGORIES=[\"normal\",\"suspicious\"]"
   ]
  },
  {
   "cell_type": "markdown",
   "id": "dba51ed3",
   "metadata": {},
   "source": [
    "## Preprocessing steps"
   ]
  },
  {
   "cell_type": "code",
   "execution_count": 132,
   "id": "ead00187",
   "metadata": {},
   "outputs": [
    {
     "name": "stdout",
     "output_type": "stream",
     "text": [
      "Could not read image: /Users/paterosthodoris/Desktop/MSBA/MSBA_FALL_2023/STAT_6289/Final_Project/FP_DATA/normal/.DS_Store\n",
      "Could not read image: /Users/paterosthodoris/Desktop/MSBA/MSBA_FALL_2023/STAT_6289/Final_Project/FP_DATA/suspicious/.DS_Store\n"
     ]
    }
   ],
   "source": [
    "import cv2\n",
    "import os\n",
    "\n",
    "img_size = 150\n",
    "data = []\n",
    "\n",
    "for category in CATEGORIES:\n",
    "    folder = os.path.join(DIRECTORY, category)\n",
    "    label = CATEGORIES.index(category)\n",
    "    for img in os.listdir(folder):\n",
    "        img_path = os.path.join(folder, img)\n",
    "        try:\n",
    "            img_array = cv2.imread(img_path)\n",
    "            if img_array is not None:  # Check if the image was read successfully\n",
    "                img_array = cv2.resize(img_array, (img_size, img_size))\n",
    "                data.append([img_array, label])\n",
    "            else:\n",
    "                print(f\"Could not read image: {img_path}\")\n",
    "        except Exception as e:\n",
    "            print(f\"Error processing image {img_path}: {str(e)}\")"
   ]
  },
  {
   "cell_type": "code",
   "execution_count": 137,
   "id": "92e3f95b",
   "metadata": {},
   "outputs": [
    {
     "data": {
      "text/plain": [
       "287"
      ]
     },
     "execution_count": 137,
     "metadata": {},
     "output_type": "execute_result"
    }
   ],
   "source": [
    "len(data)"
   ]
  },
  {
   "cell_type": "code",
   "execution_count": 138,
   "id": "22fcc44e",
   "metadata": {
    "scrolled": true
   },
   "outputs": [
    {
     "data": {
      "text/plain": [
       "[array([[[255, 255, 255],\n",
       "         [255, 255, 255],\n",
       "         [255, 255, 255],\n",
       "         ...,\n",
       "         [255, 255, 255],\n",
       "         [255, 255, 255],\n",
       "         [255, 255, 255]],\n",
       " \n",
       "        [[255, 255, 255],\n",
       "         [255, 255, 255],\n",
       "         [255, 255, 255],\n",
       "         ...,\n",
       "         [255, 255, 255],\n",
       "         [255, 255, 255],\n",
       "         [255, 255, 255]],\n",
       " \n",
       "        [[255, 255, 255],\n",
       "         [255, 255, 255],\n",
       "         [255, 255, 255],\n",
       "         ...,\n",
       "         [255, 255, 255],\n",
       "         [255, 255, 255],\n",
       "         [255, 255, 255]],\n",
       " \n",
       "        ...,\n",
       " \n",
       "        [[255, 255, 255],\n",
       "         [255, 255, 255],\n",
       "         [255, 255, 255],\n",
       "         ...,\n",
       "         [255, 255, 255],\n",
       "         [255, 255, 255],\n",
       "         [255, 255, 255]],\n",
       " \n",
       "        [[255, 255, 255],\n",
       "         [255, 255, 255],\n",
       "         [255, 255, 255],\n",
       "         ...,\n",
       "         [255, 255, 255],\n",
       "         [255, 255, 255],\n",
       "         [255, 255, 255]],\n",
       " \n",
       "        [[250, 250, 250],\n",
       "         [255, 255, 255],\n",
       "         [255, 255, 255],\n",
       "         ...,\n",
       "         [255, 255, 255],\n",
       "         [255, 255, 255],\n",
       "         [255, 255, 255]]], dtype=uint8),\n",
       " 0]"
      ]
     },
     "execution_count": 138,
     "metadata": {},
     "output_type": "execute_result"
    }
   ],
   "source": [
    "data[0]"
   ]
  },
  {
   "cell_type": "markdown",
   "id": "9073c7e0",
   "metadata": {},
   "source": [
    "## Shuffle data"
   ]
  },
  {
   "cell_type": "code",
   "execution_count": 139,
   "id": "855fee9c",
   "metadata": {},
   "outputs": [],
   "source": [
    "random.shuffle(data)"
   ]
  },
  {
   "cell_type": "markdown",
   "id": "d4cec9c6",
   "metadata": {},
   "source": [
    "## Append labels to the images"
   ]
  },
  {
   "cell_type": "code",
   "execution_count": 140,
   "id": "39627a7a",
   "metadata": {},
   "outputs": [],
   "source": [
    "X=[]\n",
    "y=[]\n",
    "\n",
    "for features, labels in data:\n",
    "    X.append(features)\n",
    "    y.append(labels)"
   ]
  },
  {
   "cell_type": "markdown",
   "id": "856390a7",
   "metadata": {},
   "source": [
    "## Convert to numpy arrays"
   ]
  },
  {
   "cell_type": "code",
   "execution_count": 141,
   "id": "49c1fa29",
   "metadata": {},
   "outputs": [],
   "source": [
    "X = np.array(X)\n",
    "y = np.array(y)"
   ]
  },
  {
   "cell_type": "markdown",
   "id": "506a204f",
   "metadata": {},
   "source": [
    "## Store as pickle objects for easy access"
   ]
  },
  {
   "cell_type": "code",
   "execution_count": 144,
   "id": "d97d2d0e",
   "metadata": {},
   "outputs": [],
   "source": [
    "pickle.dump(X, open('X.pkl','wb'))\n",
    "pickle.dump(y, open('y.pkl','wb'))"
   ]
  }
 ],
 "metadata": {
  "kernelspec": {
   "display_name": "Python 3 (ipykernel)",
   "language": "python",
   "name": "python3"
  },
  "language_info": {
   "codemirror_mode": {
    "name": "ipython",
    "version": 3
   },
   "file_extension": ".py",
   "mimetype": "text/x-python",
   "name": "python",
   "nbconvert_exporter": "python",
   "pygments_lexer": "ipython3",
   "version": "3.9.7"
  }
 },
 "nbformat": 4,
 "nbformat_minor": 5
}

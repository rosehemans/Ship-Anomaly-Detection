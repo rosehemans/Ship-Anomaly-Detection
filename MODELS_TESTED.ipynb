{
 "cells": [
  {
   "cell_type": "markdown",
   "id": "464acdbe",
   "metadata": {},
   "source": [
    "## MODEL 1: vessel_movements-1702248658"
   ]
  },
  {
   "cell_type": "code",
   "execution_count": null,
   "id": "a7825e4b",
   "metadata": {},
   "outputs": [],
   "source": [
    "model = Sequential()\n",
    "\n",
    "model.add(Conv2D(64, (3,3), activation = 'relu'))\n",
    "model.add(MaxPooling2D((2,2)))\n",
    "\n",
    "model.add(Conv2D(64, (3,3), activation = 'relu'))\n",
    "model.add(MaxPooling2D((2,2)))\n",
    "\n",
    "model.add(Flatten())\n",
    "\n",
    "model.add(Dense(128, input_shape = X.shape[1:], activation='relu'))\n",
    "\n",
    "model.add(Dense(2, activation = \"softmax\"))\n",
    "\n",
    "model.compile(optimizer = \"adam\",\n",
    "              loss = \"sparse_categorical_crossentropy\",\n",
    "             metrics = [\"accuracy\"])\n",
    "\n",
    "model.fit(X, y, batch_size=20, epochs = 10, validation_split = 0.1,callbacks=[tensorboard])"
   ]
  },
  {
   "cell_type": "markdown",
   "id": "de4f9918",
   "metadata": {},
   "source": [
    "## MODEL 2: vessel_movements-1702249268\n",
    "### Batch size changed from 20 to 10"
   ]
  },
  {
   "cell_type": "code",
   "execution_count": null,
   "id": "e182324f",
   "metadata": {},
   "outputs": [],
   "source": [
    "model = Sequential()\n",
    "\n",
    "model.add(Conv2D(64, (3,3), activation = 'relu'))\n",
    "model.add(MaxPooling2D((2,2)))\n",
    "\n",
    "model.add(Conv2D(64, (3,3), activation = 'relu'))\n",
    "model.add(MaxPooling2D((2,2)))\n",
    "\n",
    "model.add(Flatten())\n",
    "\n",
    "model.add(Dense(128, input_shape = X.shape[1:], activation='relu'))\n",
    "\n",
    "model.add(Dense(2, activation = \"softmax\")) #or sigmoid\n",
    "\n",
    "model.compile(optimizer = \"adam\",\n",
    "              loss = \"sparse_categorical_crossentropy\",\n",
    "             metrics = [\"accuracy\"])\n",
    "\n",
    "model.fit(X, y, batch_size=10, epochs = 10, validation_split = 0.1,callbacks=[tensorboard])"
   ]
  },
  {
   "cell_type": "markdown",
   "id": "3ad3ec8d",
   "metadata": {},
   "source": [
    "## MODEL 3: vessel_movements-1702249595\n",
    "### Added one convo layer in comparison to model 2"
   ]
  },
  {
   "cell_type": "code",
   "execution_count": null,
   "id": "d1d0b317",
   "metadata": {},
   "outputs": [],
   "source": [
    "model = Sequential()\n",
    "\n",
    "model.add(Conv2D(64, (3,3), activation = 'relu'))\n",
    "model.add(MaxPooling2D((2,2)))\n",
    "\n",
    "model.add(Conv2D(64, (3,3), activation = 'relu'))\n",
    "model.add(MaxPooling2D((2,2)))\n",
    "\n",
    "model.add(Conv2D(64, (3,3), activation = 'relu'))\n",
    "model.add(MaxPooling2D((2,2)))\n",
    "\n",
    "model.add(Flatten())\n",
    "\n",
    "model.add(Dense(128, input_shape = X.shape[1:], activation='relu'))\n",
    "\n",
    "model.add(Dense(2, activation = \"softmax\")) #or sigmoid\n",
    "\n",
    "model.compile(optimizer = \"adam\",\n",
    "              loss = \"sparse_categorical_crossentropy\",\n",
    "             metrics = [\"accuracy\"])\n",
    "\n",
    "model.fit(X, y, batch_size=10, epochs = 10, validation_split = 0.1,callbacks=[tensorboard])"
   ]
  },
  {
   "cell_type": "markdown",
   "id": "2388b00b",
   "metadata": {},
   "source": [
    "## MODEL 4: vessel_movements-1702249870\n",
    "### Potentially the best model, changed a lot"
   ]
  },
  {
   "cell_type": "code",
   "execution_count": null,
   "id": "5e1b3dc0",
   "metadata": {},
   "outputs": [],
   "source": [
    "model_1 = Sequential()\n",
    "\n",
    "model_1.add(Conv2D(64, (3,3), activation = 'relu'))\n",
    "model_1.add(MaxPooling2D((2,2)))\n",
    "\n",
    "model_1.add(Conv2D(64, (3,3), activation = 'relu'))\n",
    "model_1.add(MaxPooling2D((2,2)))\n",
    "\n",
    "model_1.add(Conv2D(128, (3,3), activation = 'relu'))\n",
    "model_1.add(MaxPooling2D((2,2)))\n",
    "\n",
    "model_1.add(Flatten())\n",
    "\n",
    "model_1.add(Dense(512, input_shape=X.shape[1:], activation = \"relu\"))\n",
    "model_1.add(Dropout(0.5))\n",
    "\n",
    "model_1.add(Dense(2, activation='softmax'))\n",
    "\n",
    "model_1.compile(optimizer='adam', loss='sparse_categorical_crossentropy', metrics=['accuracy'])\n",
    "\n",
    "model_1.fit(X,y, batch_size = 10, epochs=10,validation_split=0.1, callbacks=[tensorboard])"
   ]
  },
  {
   "cell_type": "markdown",
   "id": "38a7f0c3",
   "metadata": {},
   "source": [
    "## MODEL 5: vessel_movements-1702250244\n",
    "### Added one convo layer of 64 to model 4"
   ]
  },
  {
   "cell_type": "code",
   "execution_count": null,
   "id": "977fbcf8",
   "metadata": {},
   "outputs": [],
   "source": [
    "model_1 = Sequential()\n",
    "\n",
    "model_1.add(Conv2D(64, (3,3), activation = 'relu'))\n",
    "model_1.add(MaxPooling2D((2,2)))\n",
    "\n",
    "model_1.add(Conv2D(64, (3,3), activation = 'relu'))\n",
    "model_1.add(MaxPooling2D((2,2)))\n",
    "\n",
    "model_1.add(Conv2D(64, (3,3), activation = 'relu'))\n",
    "model_1.add(MaxPooling2D((2,2)))\n",
    "\n",
    "model_1.add(Conv2D(128, (3,3), activation = 'relu'))\n",
    "model_1.add(MaxPooling2D((2,2)))\n",
    "\n",
    "model_1.add(Flatten())\n",
    "\n",
    "model_1.add(Dense(512, input_shape=X.shape[1:], activation = \"relu\"))\n",
    "model_1.add(Dropout(0.5))\n",
    "\n",
    "model_1.add(Dense(2, activation='softmax'))\n",
    "\n",
    "model_1.compile(optimizer='adam', loss='sparse_categorical_crossentropy', metrics=['accuracy'])\n",
    "\n",
    "model_1.fit(X,y, batch_size = 10, epochs=10,validation_split=0.1, callbacks=[tensorboard])"
   ]
  },
  {
   "cell_type": "markdown",
   "id": "270ba5d1",
   "metadata": {},
   "source": [
    "## MODEL 6: vessel_movements-1702250399\n",
    "### Changed 3rd convo layer from 64 to 128 neurons"
   ]
  },
  {
   "cell_type": "code",
   "execution_count": null,
   "id": "b840774b",
   "metadata": {},
   "outputs": [],
   "source": [
    "model_1 = Sequential()\n",
    "\n",
    "model_1.add(Conv2D(64, (3,3), activation = 'relu'))\n",
    "model_1.add(MaxPooling2D((2,2)))\n",
    "\n",
    "model_1.add(Conv2D(64, (3,3), activation = 'relu'))\n",
    "model_1.add(MaxPooling2D((2,2)))\n",
    "\n",
    "model_1.add(Conv2D(128, (3,3), activation = 'relu'))\n",
    "model_1.add(MaxPooling2D((2,2)))\n",
    "\n",
    "model_1.add(Conv2D(128, (3,3), activation = 'relu'))\n",
    "model_1.add(MaxPooling2D((2,2)))\n",
    "\n",
    "model_1.add(Flatten())\n",
    "\n",
    "model_1.add(Dense(512, input_shape=X.shape[1:], activation = \"relu\"))\n",
    "model_1.add(Dropout(0.5))\n",
    "\n",
    "model_1.add(Dense(2, activation='softmax'))\n",
    "\n",
    "model_1.compile(optimizer='adam', loss='sparse_categorical_crossentropy', metrics=['accuracy'])\n",
    "\n",
    "model_1.fit(X,y, batch_size = 10, epochs=10,validation_split=0.1, callbacks=[tensorboard])"
   ]
  },
  {
   "cell_type": "markdown",
   "id": "2a76f1de",
   "metadata": {},
   "source": [
    "## MODEL 7: vessel_movements-1702250717\n",
    "### Reduced dropout to 0.25 in comparison to model 5"
   ]
  },
  {
   "cell_type": "code",
   "execution_count": null,
   "id": "8332aeb5",
   "metadata": {},
   "outputs": [],
   "source": [
    "model_1 = Sequential()\n",
    "\n",
    "model_1.add(Conv2D(64, (3,3), activation = 'relu'))\n",
    "model_1.add(MaxPooling2D((2,2)))\n",
    "\n",
    "model_1.add(Conv2D(64, (3,3), activation = 'relu'))\n",
    "model_1.add(MaxPooling2D((2,2)))\n",
    "\n",
    "model_1.add(Conv2D(64, (3,3), activation = 'relu'))\n",
    "model_1.add(MaxPooling2D((2,2)))\n",
    "\n",
    "model_1.add(Conv2D(128, (3,3), activation = 'relu'))\n",
    "model_1.add(MaxPooling2D((2,2)))\n",
    "\n",
    "model_1.add(Flatten())\n",
    "\n",
    "model_1.add(Dense(512, input_shape=X.shape[1:], activation = \"relu\"))\n",
    "model_1.add(Dropout(0.25))\n",
    "\n",
    "model_1.add(Dense(2, activation='softmax'))\n",
    "\n",
    "model_1.compile(optimizer='adam', loss='sparse_categorical_crossentropy', metrics=['accuracy'])\n",
    "\n",
    "model_1.fit(X,y, batch_size = 10, epochs=10,validation_split=0.1, callbacks=[tensorboard])"
   ]
  },
  {
   "cell_type": "markdown",
   "id": "a5f14bb4",
   "metadata": {},
   "source": [
    "## MODEL 8: vessel_movements-1702250882\n",
    "### Kept dropout to 0.5 changed neurons to 256 compared to model 5"
   ]
  },
  {
   "cell_type": "code",
   "execution_count": null,
   "id": "6cc2116c",
   "metadata": {},
   "outputs": [],
   "source": [
    "model_1 = Sequential()\n",
    "\n",
    "model_1.add(Conv2D(64, (3,3), activation = 'relu'))\n",
    "model_1.add(MaxPooling2D((2,2)))\n",
    "\n",
    "model_1.add(Conv2D(64, (3,3), activation = 'relu'))\n",
    "model_1.add(MaxPooling2D((2,2)))\n",
    "\n",
    "model_1.add(Conv2D(64, (3,3), activation = 'relu'))\n",
    "model_1.add(MaxPooling2D((2,2)))\n",
    "\n",
    "model_1.add(Conv2D(128, (3,3), activation = 'relu'))\n",
    "model_1.add(MaxPooling2D((2,2)))\n",
    "\n",
    "model_1.add(Flatten())\n",
    "\n",
    "model_1.add(Dense(256, input_shape=X.shape[1:], activation = \"relu\"))\n",
    "model_1.add(Dropout(0.5))\n",
    "\n",
    "model_1.add(Dense(2, activation='softmax'))\n",
    "\n",
    "model_1.compile(optimizer='adam', loss='sparse_categorical_crossentropy', metrics=['accuracy'])\n",
    "\n",
    "model_1.fit(X,y, batch_size = 10, epochs=10,validation_split=0.1, callbacks=[tensorboard])"
   ]
  },
  {
   "cell_type": "markdown",
   "id": "0d607607",
   "metadata": {},
   "source": [
    "## MODEL_9: vessel_movements-1702251049\n",
    "### Added one hidden layer of 512 neurons to model 5"
   ]
  },
  {
   "cell_type": "code",
   "execution_count": null,
   "id": "f4fbf3a9",
   "metadata": {},
   "outputs": [],
   "source": [
    "model_1 = Sequential()\n",
    "\n",
    "model_1.add(Conv2D(64, (3,3), activation = 'relu'))\n",
    "model_1.add(MaxPooling2D((2,2)))\n",
    "\n",
    "model_1.add(Conv2D(64, (3,3), activation = 'relu'))\n",
    "model_1.add(MaxPooling2D((2,2)))\n",
    "\n",
    "model_1.add(Conv2D(64, (3,3), activation = 'relu'))\n",
    "model_1.add(MaxPooling2D((2,2)))\n",
    "\n",
    "model_1.add(Conv2D(128, (3,3), activation = 'relu'))\n",
    "model_1.add(MaxPooling2D((2,2)))\n",
    "\n",
    "model_1.add(Flatten())\n",
    "\n",
    "model_1.add(Dense(512, input_shape=X.shape[1:], activation = \"relu\"))\n",
    "model_1.add(Dropout(0.5))\n",
    "\n",
    "model_1.add(Dense(512, input_shape=X.shape[1:], activation = \"relu\"))\n",
    "model_1.add(Dropout(0.5))\n",
    "\n",
    "model_1.add(Dense(2, activation='softmax'))\n",
    "\n",
    "model_1.compile(optimizer='adam', loss='sparse_categorical_crossentropy', metrics=['accuracy'])\n",
    "\n",
    "model_1.fit(X,y, batch_size = 10, epochs=10,validation_split=0.1, callbacks=[tensorboard])"
   ]
  },
  {
   "cell_type": "markdown",
   "id": "64aa938c",
   "metadata": {},
   "source": [
    "## MODEL_10: vessel_movements-1702251288\n",
    "### Changed activation function to sigmoid from model 9"
   ]
  },
  {
   "cell_type": "code",
   "execution_count": null,
   "id": "8273928e",
   "metadata": {},
   "outputs": [],
   "source": [
    "model_1 = Sequential()\n",
    "\n",
    "model_1.add(Conv2D(64, (3,3), activation = 'relu'))\n",
    "model_1.add(MaxPooling2D((2,2)))\n",
    "\n",
    "model_1.add(Conv2D(64, (3,3), activation = 'relu'))\n",
    "model_1.add(MaxPooling2D((2,2)))\n",
    "\n",
    "model_1.add(Conv2D(64, (3,3), activation = 'relu'))\n",
    "model_1.add(MaxPooling2D((2,2)))\n",
    "\n",
    "model_1.add(Conv2D(128, (3,3), activation = 'relu'))\n",
    "model_1.add(MaxPooling2D((2,2)))\n",
    "\n",
    "model_1.add(Flatten())\n",
    "\n",
    "model_1.add(Dense(512, input_shape=X.shape[1:], activation = \"relu\"))\n",
    "model_1.add(Dropout(0.5))\n",
    "\n",
    "model_1.add(Dense(512, input_shape=X.shape[1:], activation = \"relu\"))\n",
    "model_1.add(Dropout(0.5))\n",
    "\n",
    "model_1.add(Dense(2, activation='sigmoid'))\n",
    "\n",
    "model_1.compile(optimizer='adam', loss='sparse_categorical_crossentropy', metrics=['accuracy'])\n",
    "\n",
    "model_1.fit(X,y, batch_size = 10, epochs=10,validation_split=0.1, callbacks=[tensorboard])"
   ]
  }
 ],
 "metadata": {
  "kernelspec": {
   "display_name": "Python 3 (ipykernel)",
   "language": "python",
   "name": "python3"
  },
  "language_info": {
   "codemirror_mode": {
    "name": "ipython",
    "version": 3
   },
   "file_extension": ".py",
   "mimetype": "text/x-python",
   "name": "python",
   "nbconvert_exporter": "python",
   "pygments_lexer": "ipython3",
   "version": "3.9.7"
  }
 },
 "nbformat": 4,
 "nbformat_minor": 5
}
